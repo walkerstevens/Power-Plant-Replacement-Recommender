{
 "cells": [
  {
   "cell_type": "markdown",
   "metadata": {},
   "source": [
    "<h1>Team 80 Work</h1>"
   ]
  },
  {
   "cell_type": "code",
   "execution_count": 1,
   "metadata": {
    "execution": {
     "iopub.execute_input": "2022-03-18T07:15:37.227500Z",
     "iopub.status.busy": "2022-03-18T07:15:37.227225Z",
     "iopub.status.idle": "2022-03-18T07:16:11.096651Z",
     "shell.execute_reply": "2022-03-18T07:16:11.095978Z",
     "shell.execute_reply.started": "2022-03-18T07:15:37.227462Z"
    },
    "tags": []
   },
   "outputs": [
    {
     "data": {
      "application/vnd.jupyter.widget-view+json": {
       "model_id": "f7e7cd48b5004087995c1419c68743b8",
       "version_major": 2,
       "version_minor": 0
      },
      "text/plain": [
       "VBox()"
      ]
     },
     "metadata": {},
     "output_type": "display_data"
    },
    {
     "name": "stdout",
     "output_type": "stream",
     "text": [
      "Starting Spark application\n"
     ]
    },
    {
     "data": {
      "text/html": [
       "<table>\n",
       "<tr><th>ID</th><th>YARN Application ID</th><th>Kind</th><th>State</th><th>Spark UI</th><th>Driver log</th><th>Current session?</th></tr><tr><td>0</td><td>application_1649088137482_0001</td><td>pyspark</td><td>idle</td><td><a target=\"_blank\" href=\"http://ip-172-31-69-184.ec2.internal:20888/proxy/application_1649088137482_0001/\" class=\"emr-proxy-link\" emr-resource=\"j-8CAOUI8WD4OY\n",
       "\" application-id=\"application_1649088137482_0001\">Link</a></td><td><a target=\"_blank\" href=\"http://ip-172-31-68-36.ec2.internal:8042/node/containerlogs/container_1649088137482_0001_01_000001/livy\" >Link</a></td><td>✔</td></tr></table>"
      ],
      "text/plain": [
       "<IPython.core.display.HTML object>"
      ]
     },
     "metadata": {},
     "output_type": "display_data"
    },
    {
     "data": {
      "application/vnd.jupyter.widget-view+json": {
       "model_id": "",
       "version_major": 2,
       "version_minor": 0
      },
      "text/plain": [
       "FloatProgress(value=0.0, bar_style='info', description='Progress:', layout=Layout(height='25px', width='50%'),…"
      ]
     },
     "metadata": {},
     "output_type": "display_data"
    },
    {
     "name": "stdout",
     "output_type": "stream",
     "text": [
      "SparkSession available as 'spark'.\n"
     ]
    },
    {
     "data": {
      "application/vnd.jupyter.widget-view+json": {
       "model_id": "",
       "version_major": 2,
       "version_minor": 0
      },
      "text/plain": [
       "FloatProgress(value=0.0, bar_style='info', description='Progress:', layout=Layout(height='25px', width='50%'),…"
      ]
     },
     "metadata": {},
     "output_type": "display_data"
    },
    {
     "name": "stdout",
     "output_type": "stream",
     "text": [
      "<SparkContext master=yarn appName=livy-session-0>"
     ]
    }
   ],
   "source": [
    "sc"
   ]
  },
  {
   "cell_type": "markdown",
   "metadata": {},
   "source": [
    "<div class=\"alert alert-block alert-danger\">\n",
    "    WARNING: Do <strong>NOT</strong> remodify the below cell. It contains the function for loading data and all imports, and the function for running your code.\n",
    "</div>"
   ]
  },
  {
   "cell_type": "code",
   "execution_count": 2,
   "metadata": {
    "execution": {
     "iopub.execute_input": "2022-03-18T07:16:11.098206Z",
     "iopub.status.busy": "2022-03-18T07:16:11.097836Z",
     "iopub.status.idle": "2022-03-18T07:16:11.196535Z",
     "shell.execute_reply": "2022-03-18T07:16:11.195828Z",
     "shell.execute_reply.started": "2022-03-18T07:16:11.098170Z"
    },
    "tags": []
   },
   "outputs": [
    {
     "data": {
      "application/vnd.jupyter.widget-view+json": {
       "model_id": "d230cf96eaee45c5ad88afc547a497b5",
       "version_major": 2,
       "version_minor": 0
      },
      "text/plain": [
       "VBox()"
      ]
     },
     "metadata": {},
     "output_type": "display_data"
    },
    {
     "data": {
      "application/vnd.jupyter.widget-view+json": {
       "model_id": "",
       "version_major": 2,
       "version_minor": 0
      },
      "text/plain": [
       "FloatProgress(value=0.0, bar_style='info', description='Progress:', layout=Layout(height='25px', width='50%'),…"
      ]
     },
     "metadata": {},
     "output_type": "display_data"
    }
   ],
   "source": [
    "#export\n",
    "from pyspark.sql.functions import col\n",
    "from pyspark.sql import *"
   ]
  },
  {
   "cell_type": "code",
   "execution_count": 5,
   "metadata": {
    "execution": {
     "iopub.execute_input": "2022-03-18T08:32:11.246041Z",
     "iopub.status.busy": "2022-03-18T08:32:11.245817Z",
     "iopub.status.idle": "2022-03-18T08:32:11.302245Z",
     "shell.execute_reply": "2022-03-18T08:32:11.301713Z",
     "shell.execute_reply.started": "2022-03-18T08:32:11.246015Z"
    },
    "tags": []
   },
   "outputs": [
    {
     "data": {
      "application/vnd.jupyter.widget-view+json": {
       "model_id": "a3392a25150140a49f8e82ab3c4a5d2d",
       "version_major": 2,
       "version_minor": 0
      },
      "text/plain": [
       "VBox()"
      ]
     },
     "metadata": {},
     "output_type": "display_data"
    },
    {
     "data": {
      "application/vnd.jupyter.widget-view+json": {
       "model_id": "",
       "version_major": 2,
       "version_minor": 0
      },
      "text/plain": [
       "FloatProgress(value=0.0, bar_style='info', description='Progress:', layout=Layout(height='25px', width='50%'),…"
      ]
     },
     "metadata": {},
     "output_type": "display_data"
    },
    {
     "name": "stdout",
     "output_type": "stream",
     "text": [
      "Mean Count:  546219\n",
      "Std Count:  546219\n",
      "Other Count:  546219"
     ]
    }
   ],
   "source": [
    "#### DO NOT CHANGE ANYTHING IN THIS CELL ####\n",
    "\n",
    "\n",
    "def load_data():\n",
    "    # Loads the data for this question. Do not change this function.\n",
    "    # This function should only be called with the parameter 'small' or 'large'\n",
    "    input_bucket = \"s3://cse6242-ymyung3/team80\"\n",
    "\n",
    "    # Load Trip Data\n",
    "    mean_path = '/yearly_variables_us_coordinates_mean_v1.csv'\n",
    "    means = spark.read.csv(input_bucket + mean_path,\n",
    "                           header=True,\n",
    "                           inferSchema=True)\n",
    "    print(\"Mean Count: \", means.count() )  \n",
    "\n",
    "    # Load STD data\n",
    "    std_path = '/yearly_variables_us_coordinates_std_v3.csv'    \n",
    "    stds = spark.read.csv(input_bucket + std_path,\n",
    "                            header=True,\n",
    "                            inferSchema=True)\n",
    "    print(\"Std Count: \", stds.count())\n",
    "    \n",
    "    # Load Other variables data\n",
    "    other_path = '/yearly_variables_us_coordinates_others_v1.csv'    \n",
    "    others = spark.read.csv(input_bucket + other_path,\n",
    "                            header=True,\n",
    "                            inferSchema=True)\n",
    "    print(\"Other Count: \", others.count())    \n",
    "    return means, stds, others\n",
    "\n",
    "\n",
    "means, stds, others = load_data()"
   ]
  },
  {
   "cell_type": "code",
   "execution_count": 6,
   "metadata": {},
   "outputs": [
    {
     "data": {
      "application/vnd.jupyter.widget-view+json": {
       "model_id": "ab494592547644b2a5ebc731c2b5a3f8",
       "version_major": 2,
       "version_minor": 0
      },
      "text/plain": [
       "VBox()"
      ]
     },
     "metadata": {},
     "output_type": "display_data"
    },
    {
     "data": {
      "application/vnd.jupyter.widget-view+json": {
       "model_id": "",
       "version_major": 2,
       "version_minor": 0
      },
      "text/plain": [
       "FloatProgress(value=0.0, bar_style='info', description='Progress:', layout=Layout(height='25px', width='50%'),…"
      ]
     },
     "metadata": {},
     "output_type": "display_data"
    },
    {
     "name": "stdout",
     "output_type": "stream",
     "text": [
      "DataFrame[_c0: int, index: int, latitude: double, longitude: double, elevation: double, state: string, std_air_temperature: double, std_alpha: double, std_aod: double, std_asymmetry: double, std_cld_opd_dcomp: double, std_cld_reff_dcomp: double, std_clearsky_dhi: double, std_clearsky_dni: double, std_clearsky_ghi: double, std_cloud_press_acha: double, std_cloud_type: double, std_dew_point: double, std_dhi: double, std_dni: double, std_ghi: double, std_ozone: double, std_relative_humidity: double, std_solar_zenith_angle: double, std_ssa: double, std_surface_albedo: double, std_surface_pressure: double, std_total_precipitable_water: double, std_wind_direction: double, std_wind_speed: double]"
     ]
    }
   ],
   "source": [
    "stds.createOrReplaceTempView(\"stds\")\n",
    "df = stds.sql_ctx.sql(\"select * from stds\")\n",
    "df"
   ]
  },
  {
   "cell_type": "code",
   "execution_count": 7,
   "metadata": {
    "execution": {
     "iopub.execute_input": "2022-03-18T08:32:14.103836Z",
     "iopub.status.busy": "2022-03-18T08:32:14.103602Z",
     "iopub.status.idle": "2022-03-18T08:32:14.165062Z",
     "shell.execute_reply": "2022-03-18T08:32:14.164327Z",
     "shell.execute_reply.started": "2022-03-18T08:32:14.103812Z"
    },
    "tags": []
   },
   "outputs": [
    {
     "data": {
      "application/vnd.jupyter.widget-view+json": {
       "model_id": "8c93c845bc194cd3b57c568aff108a58",
       "version_major": 2,
       "version_minor": 0
      },
      "text/plain": [
       "VBox()"
      ]
     },
     "metadata": {},
     "output_type": "display_data"
    },
    {
     "data": {
      "application/vnd.jupyter.widget-view+json": {
       "model_id": "",
       "version_major": 2,
       "version_minor": 0
      },
      "text/plain": [
       "FloatProgress(value=0.0, bar_style='info', description='Progress:', layout=Layout(height='25px', width='50%'),…"
      ]
     },
     "metadata": {},
     "output_type": "display_data"
    },
    {
     "name": "stdout",
     "output_type": "stream",
     "text": [
      "+-----+--------+---------+---------+---------+-------------------+------------------+-------------------+------------------+------------------+------------------+------------------+------------------+-----------------+--------------------+------------------+------------------+-----------------+------------------+------------------+-------------------+---------------------+----------------------+------------------+--------------------+--------------------+----------------------------+------------------+------------------+-------------------+-------------------+--------------------+--------------------+-----------------+------------------+------------------+------------------+------------------+--------------------+------------------+------------------+------------------+-----------------+------------------+--------------------+---------------------+----------------------+--------------------+--------------------+--------------------+----------------------------+------------------+------------------+------------------+-------------------+--------------------+----------+----------+--------+-------+---------+----------+------------------+--------------------+--------+------------------+\n",
      "|index|latitude|longitude|elevation|    state|avg_air_temperature|         avg_alpha|            avg_aod|     avg_asymmetry| avg_cld_opd_dcomp|avg_cld_reff_dcomp|  avg_clearsky_dhi|  avg_clearsky_dni| avg_clearsky_ghi|avg_cloud_press_acha|    avg_cloud_type|     avg_dew_point|          avg_dhi|           avg_dni|           avg_ghi|          avg_ozone|avg_relative_humidity|avg_solar_zenith_angle|           avg_ssa|  avg_surface_albedo|avg_surface_pressure|avg_total_precipitable_water|avg_wind_direction|    avg_wind_speed|std_air_temperature|          std_alpha|             std_aod|       std_asymmetry|std_cld_opd_dcomp|std_cld_reff_dcomp|  std_clearsky_dhi|  std_clearsky_dni|  std_clearsky_ghi|std_cloud_press_acha|    std_cloud_type|     std_dew_point|           std_dhi|          std_dni|           std_ghi|           std_ozone|std_relative_humidity|std_solar_zenith_angle|             std_ssa|  std_surface_albedo|std_surface_pressure|std_total_precipitable_water|std_wind_direction|    std_wind_speed|           wind_u5|          wind_5_10|          wind_10_15|wind_15_20|wind_20_25|wind_o25|temp_u0|temp_0_10|temp_10_20|        temp_20_30|          temp_30_40|temp_o40|wind_power_density|\n",
      "+-----+--------+---------+---------+---------+-------------------+------------------+-------------------+------------------+------------------+------------------+------------------+------------------+-----------------+--------------------+------------------+------------------+-----------------+------------------+------------------+-------------------+---------------------+----------------------+------------------+--------------------+--------------------+----------------------------+------------------+------------------+-------------------+-------------------+--------------------+--------------------+-----------------+------------------+------------------+------------------+------------------+--------------------+------------------+------------------+------------------+-----------------+------------------+--------------------+---------------------+----------------------+--------------------+--------------------+--------------------+----------------------------+------------------+------------------+------------------+-------------------+--------------------+----------+----------+--------+-------+---------+----------+------------------+--------------------+--------+------------------+\n",
      "|14294|   18.93|  -155.66| 66.26316|b'Hawaii'|  26.23333333333333|0.6273127853881278|0.10518196347031962|0.6780570776255708| 2.305853881278539| 3.088533105022831|  48.8162100456621|348.25251141552513|281.7011415525114|  170.50479452054793| 2.504337899543379|19.938470319634703|81.46438356164384| 220.4697488584475|230.49269406392693| 0.2681292237442922|    90.06053767123286|     89.79734246575343|0.9498835616438356|  0.1359178082191781|  1040.0102739726028|          3.6675456621004563|  94.4824200913242|5.0001712328767125| 1.6763554001767518|  0.213417116547902|0.047426028932914976|0.012871561965879557|7.092830303469307|7.5499737189235985| 55.62426757834402|384.53923644518756| 357.5769233569475|    322.081186019858|2.5044215502484897|1.6822276592426693|119.38132511521646|323.7614806383735|314.85874261407065|0.019131203201239254|    8.194231741408885|     45.08888994782939|0.022212344959351114|0.015440343371028804|  1.6238475134253427|          0.9572436666871654| 36.67673371457254|1.5970681522740433|0.4461187214611872| 0.5533105022831051|5.707762557077625E-4|       0.0|       0.0|     0.0|    0.0|      0.0|       0.0|0.9646118721461188| 0.03538812785388128|     0.0| 97.35765870638924|\n",
      "|14327|   18.97|  -155.74|46.846153|b'Hawaii'|  26.31849315068493|0.6599566210045663|0.10924392694063927|0.6780856164383562|2.6174006849315066|3.1420753424657533|  47.7412100456621|346.76084474885846|279.6134703196347|  191.19132420091324|2.1715753424657533|19.881392694063926|79.37933789954337|217.78139269406392| 224.2109589041096|0.26793538812785384|    89.67836643835616|     89.81850684931507|0.9527420091324201|0.040958904109589044|  1040.4794520547946|          3.6441324200913243| 98.55787671232876| 4.613333333333333| 1.6363244014426699|0.23628850668671095|0.056171483666298164|0.012870073369912811|  7.8156527502514|7.0913455507653955| 54.53737179894555| 383.8452774602154|354.99475608875116|    340.984744925311|2.3022007106034734|1.5239251399241187| 117.5358968095726|323.6646056993601| 308.6645121602202|0.017742570088420714|    8.069592463411059|       45.076966152057|0.022253051046875666|0.004175723565104934|  2.1365032822575905|           0.852257170010781| 40.71162738854971|1.5435342630822801|0.5321917808219178| 0.4678082191780822|                 0.0|       0.0|       0.0|     0.0|    0.0|      0.0|       0.0|0.9628995433789954|0.037100456621004564|     0.0|  78.0686274812378|\n",
      "|14328|   18.97|   -155.7| 64.63158|b'Hawaii'| 26.142922374429226|0.6023447488584475|0.09971613013698631|0.6780570776255708| 2.318412100456621| 2.397422374429224|46.668150684931504| 352.1519406392694|281.7824200913242|  160.40684931506848| 2.018607305936073|19.493036529680364|76.83744292237444|230.22203196347033|230.17203196347032| 0.2704575342465753|    88.47720319634703|     89.80723287671233|0.9565833333333333| 0.08189041095890412|  1040.1347031963471|           3.531974885844749| 96.15091324200914| 4.848127853881278| 1.6961903723823109|0.21601037912088877| 0.04033961867156828|0.012871561965879557|7.332715510600463| 6.171030021751567|  52.6814588722496|387.99110914101806| 357.5511569383269|  317.44864539718446| 2.195989677376236|1.4850693459013535|115.31217927587363| 335.675446838902| 314.3992996269429| 0.02023107437027907|    8.868029005004235|     45.07211805788932| 0.01988964751790759|0.007060524338935...|  1.1724116652526362|          0.8719941085791121|35.357867913194276|1.5326294777517062|0.5034246575342466|0.49646118721461185|1.141552511415525...|       0.0|       0.0|     0.0|    0.0|      0.0|       0.0|0.9633561643835616| 0.03664383561643836|     0.0|  88.5965886515608|\n",
      "|14329|   18.97|  -155.66|   211.36|b'Hawaii'|  25.27819634703196|0.6578561643835615| 0.1023012899543379|0.6780570776255708| 2.963019406392694|2.9105901826484017| 48.66255707762557|351.97945205479454|283.5162100456621|   169.4607305936073| 2.508675799086758|19.595319634703195| 84.0763698630137|209.48253424657534|223.79166666666666|  0.271937899543379|    88.72953538812786|     89.80755707762557|0.9511130136986301| 0.18082191780821918|  1023.7054794520548|           3.533995433789954| 96.66335616438356| 4.812385844748858| 1.6146106413287202|  0.260459450644504|0.044629695582516254|0.012871561965879557|9.471023862025364| 7.053631986889931|55.457835518542225| 387.8512969853368| 359.8228790717031|  315.58510537076194|2.5384562921092173|1.5086662933172597|125.14420627416729|320.1869529739977| 308.8067117958802| 0.01516657967265752|    8.388506968244231|    45.076519382078565|0.023299832726284265|0.019706992337923352|   4.829515146570138|          0.8330910259469855| 36.93029692197609| 1.513952089317676| 0.514269406392694| 0.4853881278538813|3.424657534246575...|       0.0|       0.0|     0.0|    0.0|      0.0|       0.0|0.9990867579908675|9.132420091324201E-4|     0.0|  85.2921062312481|\n",
      "|14330|   18.97|  -155.62| 93.42857|b'Hawaii'| 26.008675799086756|0.6400753424657535|0.10498797945205479|0.6780570776255708|2.9648801369863014| 3.199706621004566|47.720433789954335| 350.8670091324201|281.9296803652968|  199.16529680365298|2.3827625570776254|19.645890410958906|83.72865296803653|203.58710045662102|219.80616438356165|0.27014109589041096|    89.22131621004566|     89.81074429223744|0.9491210045662101|  0.1032876712328767|   1039.824200913242|          3.4980136986301367| 92.37397260273973| 4.984611872146119| 1.7295887493637818|0.22065980093385934| 0.04885393054979263|0.012871561965879557|8.614887817547196| 7.157089794863505| 54.46789756879965|387.29228459409575| 357.7280115045057|  344.04560343533757|2.2868893038171505| 1.539493484527755|123.08657160923316|314.7886174753542| 305.3143811415878|0.016625088338692903|    8.505135701553407|     45.07649103203451| 0.02340538061884931|0.008952660050180633|  1.3399920519763642|          0.8655326334335245|31.953549451893192|1.4868842757110545|0.4554794520547945| 0.5444063926940639|1.141552511415525...|       0.0|       0.0|     0.0|    0.0|      0.0|       0.0|0.9680365296803652|  0.0319634703196347|     0.0| 93.62983108357236|\n",
      "+-----+--------+---------+---------+---------+-------------------+------------------+-------------------+------------------+------------------+------------------+------------------+------------------+-----------------+--------------------+------------------+------------------+-----------------+------------------+------------------+-------------------+---------------------+----------------------+------------------+--------------------+--------------------+----------------------------+------------------+------------------+-------------------+-------------------+--------------------+--------------------+-----------------+------------------+------------------+------------------+------------------+--------------------+------------------+------------------+------------------+-----------------+------------------+--------------------+---------------------+----------------------+--------------------+--------------------+--------------------+----------------------------+------------------+------------------+------------------+-------------------+--------------------+----------+----------+--------+-------+---------+----------+------------------+--------------------+--------+------------------+\n",
      "only showing top 5 rows\n",
      "\n",
      "data saved into s3 bucket"
     ]
    }
   ],
   "source": [
    "#export\n",
    "def concat_three_df(df1, df2, df3):\n",
    "    # Returns a Dataframe (mtrips) with Schema: DOLocationID, pcount\n",
    "\n",
    "    df1.createOrReplaceTempView(\"means\")\n",
    "    df2.createOrReplaceTempView(\"stds\")\n",
    "    df3.createOrReplaceTempView(\"others\")    \n",
    "\n",
    "    df = df1.sql_ctx.sql(\n",
    "'''\n",
    "SELECT means.index, means.latitude, means.longitude,\n",
    "means.elevation, means.state,\n",
    "avg_air_temperature,\n",
    "avg_alpha,\n",
    "avg_aod,\n",
    "avg_asymmetry,\n",
    "avg_cld_opd_dcomp,\n",
    "avg_cld_reff_dcomp,\n",
    "avg_clearsky_dhi,\n",
    "avg_clearsky_dni,\n",
    "avg_clearsky_ghi,\n",
    "avg_cloud_press_acha,\n",
    "avg_cloud_type,\n",
    "avg_dew_point,\n",
    "avg_dhi,\n",
    "avg_dni,\n",
    "avg_ghi,\n",
    "avg_ozone,\n",
    "avg_relative_humidity,\n",
    "avg_solar_zenith_angle,\n",
    "avg_ssa,\n",
    "avg_surface_albedo,\n",
    "avg_surface_pressure,\n",
    "avg_total_precipitable_water,\n",
    "avg_wind_direction,\n",
    "avg_wind_speed,\n",
    "std_air_temperature,\n",
    "std_alpha,\n",
    "std_aod,\n",
    "std_asymmetry,\n",
    "std_cld_opd_dcomp,\n",
    "std_cld_reff_dcomp,\n",
    "std_clearsky_dhi,\n",
    "std_clearsky_dni,\n",
    "std_clearsky_ghi,\n",
    "std_cloud_press_acha,\n",
    "std_cloud_type,\n",
    "std_dew_point,\n",
    "std_dhi,\n",
    "std_dni,\n",
    "std_ghi,\n",
    "std_ozone,\n",
    "std_relative_humidity,\n",
    "std_solar_zenith_angle,\n",
    "std_ssa,\n",
    "std_surface_albedo,\n",
    "std_surface_pressure,\n",
    "std_total_precipitable_water,\n",
    "std_wind_direction,\n",
    "std_wind_speed,\n",
    "wind_u5,\n",
    "wind_5_10,\n",
    "wind_10_15,\n",
    "wind_15_20,\n",
    "wind_20_25,\n",
    "wind_o25,\n",
    "temp_u0,\n",
    "temp_0_10,\n",
    "temp_10_20,\n",
    "temp_20_30,\n",
    "temp_30_40,\n",
    "temp_o40,\n",
    "wind_power_density\n",
    "FROM means INNER JOIN stds on means.index = stds.index INNER JOIN others ON means.index = others._c1 ORDER BY means.index\n",
    "'''                                \n",
    "    )\n",
    "    return df\n",
    "\n",
    "df = concat_three_df(means, stds, others)\n",
    "df.show(5)\n",
    "df.coalesce(1).write.option(\"header\",\"true\").csv(\"s3://cse6242-ymyung3/team80/result6.csv\")\n",
    "print('data saved into s3 bucket')"
   ]
  }
 ],
 "metadata": {
  "kernelspec": {
   "display_name": "PySpark",
   "language": "",
   "name": "pysparkkernel"
  },
  "language_info": {
   "codemirror_mode": {
    "name": "python",
    "version": 3
   },
   "mimetype": "text/x-python",
   "name": "pyspark",
   "pygments_lexer": "python3"
  }
 },
 "nbformat": 4,
 "nbformat_minor": 4
}
