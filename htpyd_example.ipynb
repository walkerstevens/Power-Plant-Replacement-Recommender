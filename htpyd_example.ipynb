{
 "cells": [
  {
   "cell_type": "code",
   "execution_count": null,
   "id": "d655cc89",
   "metadata": {},
   "outputs": [],
   "source": [
    "# "
   ]
  },
  {
   "cell_type": "code",
   "execution_count": 2,
   "id": "9250c0a6",
   "metadata": {},
   "outputs": [
    {
     "data": {
      "text/plain": [
       "['air_temperature',\n",
       " 'alpha',\n",
       " 'aod',\n",
       " 'asymmetry',\n",
       " 'cld_opd_dcomp',\n",
       " 'cld_reff_dcomp',\n",
       " 'clearsky_dhi',\n",
       " 'clearsky_dni',\n",
       " 'clearsky_ghi',\n",
       " 'cloud_press_acha',\n",
       " 'cloud_type',\n",
       " 'coordinates',\n",
       " 'dew_point',\n",
       " 'dhi',\n",
       " 'dni',\n",
       " 'fill_flag',\n",
       " 'ghi',\n",
       " 'meta',\n",
       " 'ozone',\n",
       " 'relative_humidity',\n",
       " 'solar_zenith_angle',\n",
       " 'ssa',\n",
       " 'surface_albedo',\n",
       " 'surface_pressure',\n",
       " 'time_index',\n",
       " 'tmy_year',\n",
       " 'tmy_year_short',\n",
       " 'total_precipitable_water',\n",
       " 'wind_direction',\n",
       " 'wind_speed']"
      ]
     },
     "execution_count": 2,
     "metadata": {},
     "output_type": "execute_result"
    }
   ],
   "source": [
    "import h5pyd\n",
    "import h5py\n",
    "import numpy as np\n",
    "import pandas as pd\n",
    "import matplotlib.pyplot as plt\n",
    "import matplotlib.image as mpimg\n",
    "from scipy.spatial import cKDTree\n",
    "\n",
    "# Open the desired year of nsrdb data\n",
    "# server endpoint, username, password is found via a config file\n",
    "f = h5py.File('dataset/tmy2020.h5', 'r')\n",
    "list(f.keys())\n"
   ]
  },
  {
   "cell_type": "code",
   "execution_count": 3,
   "id": "610905e8",
   "metadata": {},
   "outputs": [
    {
     "data": {
      "text/plain": [
       "(8760, 2018392)"
      ]
     },
     "execution_count": 3,
     "metadata": {},
     "output_type": "execute_result"
    }
   ],
   "source": [
    "clearsky_ghidset = f['clearsky_ghi']\n",
    "clearsky_ghidset_attr = clearsky_ghidset.attrs\n",
    "clearsky_ghidset[0:10]\n",
    "clearsky_ghidset.shape"
   ]
  },
  {
   "cell_type": "code",
   "execution_count": 4,
   "id": "7c692fb4",
   "metadata": {},
   "outputs": [
    {
     "name": "stdout",
     "output_type": "stream",
     "text": [
      "data_source , output\n",
      "elevation_correction , False\n",
      "physical_max , 1350.0\n",
      "physical_min , 0.0\n",
      "psm_scale_factor , 1.0\n",
      "psm_units , W/m2\n",
      "scale_factor , 1.0\n",
      "spatial_interp_method , nan\n",
      "temporal_interp_method , nan\n",
      "units , W/m2\n"
     ]
    }
   ],
   "source": [
    "for k,v in clearsky_ghidset_attr.items():\n",
    "    print(str(k) + ' , ' + str(v))\n"
   ]
  },
  {
   "cell_type": "code",
   "execution_count": 43,
   "id": "fa49db04",
   "metadata": {},
   "outputs": [
    {
     "data": {
      "text/plain": [
       "(8760, 2018392)"
      ]
     },
     "execution_count": 43,
     "metadata": {},
     "output_type": "execute_result"
    }
   ],
   "source": [
    "wind_speed = f['wind_speed']\n",
    "wind_speed_attr = wind_speed.attrs\n",
    "wind_speed[0:10]\n",
    "wind_speed.shape\n",
    "\n",
    "air_temperature = f['air_temperature']\n",
    "air_temperature_attr = air_temperature.attrs\n",
    "air_temperature[0:10]\n",
    "air_temperature.shape"
   ]
  },
  {
   "cell_type": "code",
   "execution_count": 10,
   "id": "4b88d4ee",
   "metadata": {},
   "outputs": [
    {
     "name": "stdout",
     "output_type": "stream",
     "text": [
      "8760\n",
      "time index 0 [1063 1047  634 ...  534  533  534] 2018392\n",
      "time index 365 [104 118  93 ...   0   0   0] 2018392\n",
      "time index 730 [0 0 0 ... 0 0 0] 2018392\n",
      "time index 1095 [0 0 0 ... 0 0 0] 2018392\n",
      "time index 1460 [500 510 545 ... 489 468 490] 2018392\n",
      "time index 1825 [ 749  748  177 ... 1403 1358 1403] 2018392\n",
      "time index 2190 [0 0 0 ... 0 0 0] 2018392\n",
      "time index 2555 [0 0 0 ... 0 0 0] 2018392\n",
      "time index 2920 [0 0 0 ... 0 0 0] 2018392\n",
      "time index 3285 [ 105  105  473 ... 1694 1698 1694] 2018392\n",
      "time index 3650 [ 465  310  464 ... 1847 1856 1847] 2018392\n",
      "time index 4015 [  0   0   0 ... 129 131 129] 2018392\n",
      "time index 4380 [0 0 0 ... 0 0 0] 2018392\n",
      "time index 4745 [  0   0   0 ... 293 295 294] 2018392\n",
      "time index 5110 [ 543  506  606 ... 1682 1688 1683] 2018392\n",
      "time index 5475 [ 155  154  371 ... 1146 1151 1145] 2018392\n",
      "time index 5840 [0 0 0 ... 0 0 0] 2018392\n",
      "time index 6205 [0 0 0 ... 0 0 0] 2018392\n",
      "time index 6570 [166 167  28 ...  72  71  72] 2018392\n",
      "time index 6935 [ 991  991  802 ... 1067 1069 1067] 2018392\n",
      "time index 7300 [249 248 247 ...   0   0   0] 2018392\n",
      "time index 7665 [0 0 0 ... 0 0 0] 2018392\n",
      "time index 8030 [0 0 0 ... 0 0 0] 2018392\n",
      "time index 8395 [446 446 330 ...   0   0   0] 2018392\n"
     ]
    },
    {
     "data": {
      "text/html": [
       "<div>\n",
       "<style scoped>\n",
       "    .dataframe tbody tr th:only-of-type {\n",
       "        vertical-align: middle;\n",
       "    }\n",
       "\n",
       "    .dataframe tbody tr th {\n",
       "        vertical-align: top;\n",
       "    }\n",
       "\n",
       "    .dataframe thead th {\n",
       "        text-align: right;\n",
       "    }\n",
       "</style>\n",
       "<table border=\"1\" class=\"dataframe\">\n",
       "  <thead>\n",
       "    <tr style=\"text-align: right;\">\n",
       "      <th></th>\n",
       "      <th>0</th>\n",
       "      <th>365</th>\n",
       "      <th>730</th>\n",
       "      <th>1095</th>\n",
       "      <th>1460</th>\n",
       "      <th>1825</th>\n",
       "      <th>2190</th>\n",
       "      <th>2555</th>\n",
       "      <th>2920</th>\n",
       "      <th>3285</th>\n",
       "      <th>...</th>\n",
       "      <th>5110</th>\n",
       "      <th>5475</th>\n",
       "      <th>5840</th>\n",
       "      <th>6205</th>\n",
       "      <th>6570</th>\n",
       "      <th>6935</th>\n",
       "      <th>7300</th>\n",
       "      <th>7665</th>\n",
       "      <th>8030</th>\n",
       "      <th>8395</th>\n",
       "    </tr>\n",
       "  </thead>\n",
       "  <tbody>\n",
       "    <tr>\n",
       "      <th>0</th>\n",
       "      <td>1063</td>\n",
       "      <td>104</td>\n",
       "      <td>0</td>\n",
       "      <td>0</td>\n",
       "      <td>500</td>\n",
       "      <td>749</td>\n",
       "      <td>0</td>\n",
       "      <td>0</td>\n",
       "      <td>0</td>\n",
       "      <td>105</td>\n",
       "      <td>...</td>\n",
       "      <td>543</td>\n",
       "      <td>155</td>\n",
       "      <td>0</td>\n",
       "      <td>0</td>\n",
       "      <td>166</td>\n",
       "      <td>991</td>\n",
       "      <td>249</td>\n",
       "      <td>0</td>\n",
       "      <td>0</td>\n",
       "      <td>446</td>\n",
       "    </tr>\n",
       "    <tr>\n",
       "      <th>1</th>\n",
       "      <td>1047</td>\n",
       "      <td>118</td>\n",
       "      <td>0</td>\n",
       "      <td>0</td>\n",
       "      <td>510</td>\n",
       "      <td>748</td>\n",
       "      <td>0</td>\n",
       "      <td>0</td>\n",
       "      <td>0</td>\n",
       "      <td>105</td>\n",
       "      <td>...</td>\n",
       "      <td>506</td>\n",
       "      <td>154</td>\n",
       "      <td>0</td>\n",
       "      <td>0</td>\n",
       "      <td>167</td>\n",
       "      <td>991</td>\n",
       "      <td>248</td>\n",
       "      <td>0</td>\n",
       "      <td>0</td>\n",
       "      <td>446</td>\n",
       "    </tr>\n",
       "    <tr>\n",
       "      <th>2</th>\n",
       "      <td>634</td>\n",
       "      <td>93</td>\n",
       "      <td>0</td>\n",
       "      <td>0</td>\n",
       "      <td>545</td>\n",
       "      <td>177</td>\n",
       "      <td>0</td>\n",
       "      <td>0</td>\n",
       "      <td>0</td>\n",
       "      <td>473</td>\n",
       "      <td>...</td>\n",
       "      <td>606</td>\n",
       "      <td>371</td>\n",
       "      <td>0</td>\n",
       "      <td>0</td>\n",
       "      <td>28</td>\n",
       "      <td>802</td>\n",
       "      <td>247</td>\n",
       "      <td>0</td>\n",
       "      <td>0</td>\n",
       "      <td>330</td>\n",
       "    </tr>\n",
       "    <tr>\n",
       "      <th>3</th>\n",
       "      <td>678</td>\n",
       "      <td>100</td>\n",
       "      <td>0</td>\n",
       "      <td>0</td>\n",
       "      <td>534</td>\n",
       "      <td>367</td>\n",
       "      <td>0</td>\n",
       "      <td>0</td>\n",
       "      <td>0</td>\n",
       "      <td>540</td>\n",
       "      <td>...</td>\n",
       "      <td>747</td>\n",
       "      <td>209</td>\n",
       "      <td>0</td>\n",
       "      <td>0</td>\n",
       "      <td>161</td>\n",
       "      <td>990</td>\n",
       "      <td>257</td>\n",
       "      <td>0</td>\n",
       "      <td>0</td>\n",
       "      <td>449</td>\n",
       "    </tr>\n",
       "    <tr>\n",
       "      <th>4</th>\n",
       "      <td>1068</td>\n",
       "      <td>79</td>\n",
       "      <td>0</td>\n",
       "      <td>0</td>\n",
       "      <td>535</td>\n",
       "      <td>318</td>\n",
       "      <td>0</td>\n",
       "      <td>0</td>\n",
       "      <td>0</td>\n",
       "      <td>511</td>\n",
       "      <td>...</td>\n",
       "      <td>747</td>\n",
       "      <td>173</td>\n",
       "      <td>0</td>\n",
       "      <td>0</td>\n",
       "      <td>223</td>\n",
       "      <td>990</td>\n",
       "      <td>186</td>\n",
       "      <td>0</td>\n",
       "      <td>0</td>\n",
       "      <td>10</td>\n",
       "    </tr>\n",
       "  </tbody>\n",
       "</table>\n",
       "<p>5 rows × 24 columns</p>\n",
       "</div>"
      ],
      "text/plain": [
       "      0  365  730  1095  1460  1825  2190  2555  2920  3285  ...  5110  5475  \\\n",
       "0  1063  104    0     0   500   749     0     0     0   105  ...   543   155   \n",
       "1  1047  118    0     0   510   748     0     0     0   105  ...   506   154   \n",
       "2   634   93    0     0   545   177     0     0     0   473  ...   606   371   \n",
       "3   678  100    0     0   534   367     0     0     0   540  ...   747   209   \n",
       "4  1068   79    0     0   535   318     0     0     0   511  ...   747   173   \n",
       "\n",
       "   5840  6205  6570  6935  7300  7665  8030  8395  \n",
       "0     0     0   166   991   249     0     0   446  \n",
       "1     0     0   167   991   248     0     0   446  \n",
       "2     0     0    28   802   247     0     0   330  \n",
       "3     0     0   161   990   257     0     0   449  \n",
       "4     0     0   223   990   186     0     0    10  \n",
       "\n",
       "[5 rows x 24 columns]"
      ]
     },
     "execution_count": 10,
     "metadata": {},
     "output_type": "execute_result"
    }
   ],
   "source": [
    "time_index = pd.to_datetime(f['time_index'][...].astype(str))\n",
    "print(len(time_index))\n",
    "\n",
    "dset_ghi = f['ghi']\n",
    "dict_data = {}\n",
    "\n",
    "for i in range(0, len(time_index), 365):\n",
    "    #print('time index ' + str(i))\n",
    "    rows = dset_ghi[i, ::1]\n",
    "    dict_data[str(i)] = rows\n",
    "    print('time index ' + str(i) + ' ' + str(rows) + ' ' + str(len(rows)))\n",
    "\n",
    "dict_data\n",
    "#df['longitude'] = coords[::10, 1]\n",
    "#df['latitude'] = coords[::10, 0]\n",
    "\n",
    "df = pd.DataFrame(dict_data) # Combine data with coordinates in a DataFrame\n",
    "\n",
    "df.head()"
   ]
  },
  {
   "cell_type": "code",
   "execution_count": 16,
   "id": "56f4ce79",
   "metadata": {},
   "outputs": [
    {
     "data": {
      "text/plain": [
       "0          230.666667\n",
       "1          222.916667\n",
       "2          198.750000\n",
       "3          223.583333\n",
       "4          215.583333\n",
       "              ...    \n",
       "2018387    432.375000\n",
       "2018388    433.500000\n",
       "2018389    431.500000\n",
       "2018390    429.916667\n",
       "2018391    431.583333\n",
       "Length: 2018392, dtype: float64"
      ]
     },
     "execution_count": 16,
     "metadata": {},
     "output_type": "execute_result"
    }
   ],
   "source": [
    "df.head()\n",
    "df.mean(axis=1)"
   ]
  },
  {
   "cell_type": "code",
   "execution_count": 50,
   "id": "46bfd8bd",
   "metadata": {},
   "outputs": [
    {
     "data": {
      "text/plain": [
       "1398800"
      ]
     },
     "execution_count": 50,
     "metadata": {},
     "output_type": "execute_result"
    }
   ],
   "source": [
    "dset_coords = f['coordinates'][...]\n",
    "tree = cKDTree(dset_coords)\n",
    "def nearest_site(tree, lat_coord, lon_coord):\n",
    "    lat_lon = np.array([lat_coord, lon_coord])\n",
    "    dist, pos = tree.query(lat_lon)\n",
    "    return pos\n",
    "\n",
    "NewYorkCity = (45.1813645,-69.2743143)\n",
    "NewYorkCity_idx = nearest_site(tree, NewYorkCity[0], NewYorkCity[1] )\n",
    "NewYorkCity_idx"
   ]
  },
  {
   "cell_type": "code",
   "execution_count": 53,
   "id": "d79ffd0d",
   "metadata": {},
   "outputs": [
    {
     "name": "stdout",
     "output_type": "stream",
     "text": [
      "data_source , MERRA2\n",
      "elevation_correction , True\n",
      "physical_max , 70.0\n",
      "physical_min , -100.0\n",
      "psm_scale_factor , 10.0\n",
      "psm_units , Celsius\n",
      "scale_factor , 10.0\n",
      "spatial_interp_method , IDW2\n",
      "temporal_interp_method , linear\n",
      "units , Celsius\n"
     ]
    },
    {
     "data": {
      "text/plain": [
       "-12.0"
      ]
     },
     "execution_count": 53,
     "metadata": {},
     "output_type": "execute_result"
    }
   ],
   "source": [
    "for k,v in air_temperature_attr.items():\n",
    "    print(str(k) + ' , ' + str(v))\n",
    "\n",
    "f['air_temperature'][10][1398800] / air_temperature_attr['psm_scale_factor']"
   ]
  },
  {
   "cell_type": "code",
   "execution_count": 54,
   "id": "8563507a",
   "metadata": {},
   "outputs": [
    {
     "data": {
      "text/plain": [
       "array([[ -19.99, -175.26],\n",
       "       [ -19.99, -175.22],\n",
       "       [ -19.99, -175.18],\n",
       "       [ -19.99, -175.14],\n",
       "       [ -19.99, -175.1 ],\n",
       "       [ -19.99, -175.06],\n",
       "       [ -19.99, -175.02],\n",
       "       [ -19.99, -174.98],\n",
       "       [ -19.99, -174.94],\n",
       "       [ -19.99, -174.9 ]], dtype=float32)"
      ]
     },
     "execution_count": 54,
     "metadata": {},
     "output_type": "execute_result"
    }
   ],
   "source": [
    "coordinates = f['coordinates']\n",
    "coordinates_attr = coordinates.attrs\n",
    "coordinates[0:10]"
   ]
  },
  {
   "cell_type": "code",
   "execution_count": 42,
   "id": "3ffd2d40",
   "metadata": {},
   "outputs": [
    {
     "data": {
      "text/plain": [
       "DatetimeIndex(['2020-01-01 00:30:00+00:00', '2020-01-01 01:30:00+00:00',\n",
       "               '2020-01-01 02:30:00+00:00', '2020-01-01 03:30:00+00:00',\n",
       "               '2020-01-01 04:30:00+00:00', '2020-01-01 05:30:00+00:00',\n",
       "               '2020-01-01 06:30:00+00:00', '2020-01-01 07:30:00+00:00',\n",
       "               '2020-01-01 08:30:00+00:00', '2020-01-01 09:30:00+00:00',\n",
       "               ...\n",
       "               '2020-12-31 14:30:00+00:00', '2020-12-31 15:30:00+00:00',\n",
       "               '2020-12-31 16:30:00+00:00', '2020-12-31 17:30:00+00:00',\n",
       "               '2020-12-31 18:30:00+00:00', '2020-12-31 19:30:00+00:00',\n",
       "               '2020-12-31 20:30:00+00:00', '2020-12-31 21:30:00+00:00',\n",
       "               '2020-12-31 22:30:00+00:00', '2020-12-31 23:30:00+00:00'],\n",
       "              dtype='datetime64[ns, UTC]', length=8760, freq=None)"
      ]
     },
     "execution_count": 42,
     "metadata": {},
     "output_type": "execute_result"
    }
   ],
   "source": [
    "# Extract datetime index for datasets\n",
    "time_index = pd.to_datetime(f['time_index'][...].astype(str))\n",
    "time_index # Temporal resolution is 30min"
   ]
  },
  {
   "cell_type": "code",
   "execution_count": 47,
   "id": "8b24a3f5",
   "metadata": {},
   "outputs": [
    {
     "data": {
      "text/html": [
       "<div>\n",
       "<style scoped>\n",
       "    .dataframe tbody tr th:only-of-type {\n",
       "        vertical-align: middle;\n",
       "    }\n",
       "\n",
       "    .dataframe tbody tr th {\n",
       "        vertical-align: top;\n",
       "    }\n",
       "\n",
       "    .dataframe thead th {\n",
       "        text-align: right;\n",
       "    }\n",
       "</style>\n",
       "<table border=\"1\" class=\"dataframe\">\n",
       "  <thead>\n",
       "    <tr style=\"text-align: right;\">\n",
       "      <th></th>\n",
       "      <th>latitude</th>\n",
       "      <th>longitude</th>\n",
       "      <th>elevation</th>\n",
       "      <th>timezone</th>\n",
       "      <th>country</th>\n",
       "      <th>state</th>\n",
       "      <th>county</th>\n",
       "      <th>urban</th>\n",
       "      <th>population</th>\n",
       "      <th>landcover</th>\n",
       "    </tr>\n",
       "  </thead>\n",
       "  <tbody>\n",
       "    <tr>\n",
       "      <th>0</th>\n",
       "      <td>-19.99</td>\n",
       "      <td>-175.259995</td>\n",
       "      <td>0.0</td>\n",
       "      <td>13</td>\n",
       "      <td>b'None'</td>\n",
       "      <td>b'None'</td>\n",
       "      <td>b'None'</td>\n",
       "      <td>b'None'</td>\n",
       "      <td>-9999</td>\n",
       "      <td>210</td>\n",
       "    </tr>\n",
       "    <tr>\n",
       "      <th>1</th>\n",
       "      <td>-19.99</td>\n",
       "      <td>-175.220001</td>\n",
       "      <td>0.0</td>\n",
       "      <td>13</td>\n",
       "      <td>b'None'</td>\n",
       "      <td>b'None'</td>\n",
       "      <td>b'None'</td>\n",
       "      <td>b'None'</td>\n",
       "      <td>-9999</td>\n",
       "      <td>210</td>\n",
       "    </tr>\n",
       "    <tr>\n",
       "      <th>2</th>\n",
       "      <td>-19.99</td>\n",
       "      <td>-175.179993</td>\n",
       "      <td>0.0</td>\n",
       "      <td>13</td>\n",
       "      <td>b'None'</td>\n",
       "      <td>b'None'</td>\n",
       "      <td>b'None'</td>\n",
       "      <td>b'None'</td>\n",
       "      <td>-9999</td>\n",
       "      <td>210</td>\n",
       "    </tr>\n",
       "    <tr>\n",
       "      <th>3</th>\n",
       "      <td>-19.99</td>\n",
       "      <td>-175.139999</td>\n",
       "      <td>0.0</td>\n",
       "      <td>13</td>\n",
       "      <td>b'None'</td>\n",
       "      <td>b'None'</td>\n",
       "      <td>b'None'</td>\n",
       "      <td>b'None'</td>\n",
       "      <td>-9999</td>\n",
       "      <td>210</td>\n",
       "    </tr>\n",
       "    <tr>\n",
       "      <th>4</th>\n",
       "      <td>-19.99</td>\n",
       "      <td>-175.100006</td>\n",
       "      <td>0.0</td>\n",
       "      <td>13</td>\n",
       "      <td>b'None'</td>\n",
       "      <td>b'None'</td>\n",
       "      <td>b'None'</td>\n",
       "      <td>b'None'</td>\n",
       "      <td>-9999</td>\n",
       "      <td>210</td>\n",
       "    </tr>\n",
       "  </tbody>\n",
       "</table>\n",
       "</div>"
      ],
      "text/plain": [
       "   latitude   longitude  elevation  timezone  country    state   county  \\\n",
       "0    -19.99 -175.259995        0.0        13  b'None'  b'None'  b'None'   \n",
       "1    -19.99 -175.220001        0.0        13  b'None'  b'None'  b'None'   \n",
       "2    -19.99 -175.179993        0.0        13  b'None'  b'None'  b'None'   \n",
       "3    -19.99 -175.139999        0.0        13  b'None'  b'None'  b'None'   \n",
       "4    -19.99 -175.100006        0.0        13  b'None'  b'None'  b'None'   \n",
       "\n",
       "     urban  population  landcover  \n",
       "0  b'None'       -9999        210  \n",
       "1  b'None'       -9999        210  \n",
       "2  b'None'       -9999        210  \n",
       "3  b'None'       -9999        210  \n",
       "4  b'None'       -9999        210  "
      ]
     },
     "execution_count": 47,
     "metadata": {},
     "output_type": "execute_result"
    }
   ],
   "source": [
    "# Locational information is stored in either 'meta' or 'coordinates'\n",
    "meta = pd.DataFrame(f['meta'][...])\n",
    "meta.head()"
   ]
  },
  {
   "cell_type": "code",
   "execution_count": 69,
   "id": "cf7fdafd",
   "metadata": {},
   "outputs": [
    {
     "data": {
      "text/plain": [
       "(2018392, 2)"
      ]
     },
     "execution_count": 69,
     "metadata": {},
     "output_type": "execute_result"
    }
   ],
   "source": [
    "# Extract coordinates (lat, lon)\n",
    "#print(dict(f['coordinates'].attrs))\n",
    "coords = f['coordinates'][...]\n",
    "#coords.shape\n",
    "#pd_coords = pd.DataFrame(coords)\n",
    "#pd_coords.head()"
   ]
  },
  {
   "cell_type": "code",
   "execution_count": 63,
   "id": "7dfe3c3d",
   "metadata": {},
   "outputs": [
    {
     "data": {
      "text/plain": [
       "DatetimeIndex(['2020-01-01 00:30:00+00:00', '2020-01-01 01:30:00+00:00',\n",
       "               '2020-01-01 02:30:00+00:00', '2020-01-01 03:30:00+00:00',\n",
       "               '2020-01-01 04:30:00+00:00', '2020-01-01 05:30:00+00:00',\n",
       "               '2020-01-01 06:30:00+00:00', '2020-01-01 07:30:00+00:00',\n",
       "               '2020-01-01 08:30:00+00:00', '2020-01-01 09:30:00+00:00',\n",
       "               ...\n",
       "               '2020-12-31 14:30:00+00:00', '2020-12-31 15:30:00+00:00',\n",
       "               '2020-12-31 16:30:00+00:00', '2020-12-31 17:30:00+00:00',\n",
       "               '2020-12-31 18:30:00+00:00', '2020-12-31 19:30:00+00:00',\n",
       "               '2020-12-31 20:30:00+00:00', '2020-12-31 21:30:00+00:00',\n",
       "               '2020-12-31 22:30:00+00:00', '2020-12-31 23:30:00+00:00'],\n",
       "              dtype='datetime64[ns, UTC]', length=8760, freq=None)"
      ]
     },
     "execution_count": 63,
     "metadata": {},
     "output_type": "execute_result"
    }
   ],
   "source": [
    "time_index = pd.to_datetime(f['time_index'][...].astype(str))\n",
    "time_index\n"
   ]
  },
  {
   "cell_type": "code",
   "execution_count": 83,
   "id": "a5648953",
   "metadata": {},
   "outputs": [
    {
     "name": "stdout",
     "output_type": "stream",
     "text": [
      "CPU times: user 348 ms, sys: 332 ms, total: 679 ms\n",
      "Wall time: 13.9 s\n"
     ]
    },
    {
     "data": {
      "text/html": [
       "<div>\n",
       "<style scoped>\n",
       "    .dataframe tbody tr th:only-of-type {\n",
       "        vertical-align: middle;\n",
       "    }\n",
       "\n",
       "    .dataframe tbody tr th {\n",
       "        vertical-align: top;\n",
       "    }\n",
       "\n",
       "    .dataframe thead th {\n",
       "        text-align: right;\n",
       "    }\n",
       "</style>\n",
       "<table border=\"1\" class=\"dataframe\">\n",
       "  <thead>\n",
       "    <tr style=\"text-align: right;\">\n",
       "      <th></th>\n",
       "      <th>longitude</th>\n",
       "      <th>latitude</th>\n",
       "      <th>ghi</th>\n",
       "    </tr>\n",
       "  </thead>\n",
       "  <tbody>\n",
       "    <tr>\n",
       "      <th>0</th>\n",
       "      <td>-175.259995</td>\n",
       "      <td>-19.99</td>\n",
       "      <td>123.0</td>\n",
       "    </tr>\n",
       "    <tr>\n",
       "      <th>1</th>\n",
       "      <td>-174.860001</td>\n",
       "      <td>-19.99</td>\n",
       "      <td>719.0</td>\n",
       "    </tr>\n",
       "    <tr>\n",
       "      <th>2</th>\n",
       "      <td>-174.179993</td>\n",
       "      <td>-19.99</td>\n",
       "      <td>1056.0</td>\n",
       "    </tr>\n",
       "    <tr>\n",
       "      <th>3</th>\n",
       "      <td>-158.139999</td>\n",
       "      <td>-19.99</td>\n",
       "      <td>737.0</td>\n",
       "    </tr>\n",
       "    <tr>\n",
       "      <th>4</th>\n",
       "      <td>-157.740005</td>\n",
       "      <td>-19.99</td>\n",
       "      <td>621.0</td>\n",
       "    </tr>\n",
       "  </tbody>\n",
       "</table>\n",
       "</div>"
      ],
      "text/plain": [
       "    longitude  latitude     ghi\n",
       "0 -175.259995    -19.99   123.0\n",
       "1 -174.860001    -19.99   719.0\n",
       "2 -174.179993    -19.99  1056.0\n",
       "3 -158.139999    -19.99   737.0\n",
       "4 -157.740005    -19.99   621.0"
      ]
     },
     "execution_count": 83,
     "metadata": {},
     "output_type": "execute_result"
    }
   ],
   "source": [
    "timestep = np.where(time_index == '2020-01-31 00:30:00')[0][0]\n",
    "timestep\n",
    "dset = f['ghi']\n",
    "%time data = dset[timestep, ::10]   # extract every 10th location at a particular time\n",
    "df = pd.DataFrame() # Combine data with coordinates in a DataFrame\n",
    "df['longitude'] = coords[::10, 1]\n",
    "df['latitude'] = coords[::10, 0]\n",
    "df['ghi'] = data / dset.attrs['psm_scale_factor'] # unscale dataset\n",
    "df.head()"
   ]
  },
  {
   "cell_type": "code",
   "execution_count": 63,
   "id": "7262d2df",
   "metadata": {},
   "outputs": [
    {
     "name": "stdout",
     "output_type": "stream",
     "text": [
      "CPU times: user 184 ms, sys: 97.2 ms, total: 282 ms\n",
      "Wall time: 280 ms\n"
     ]
    }
   ],
   "source": [
    "timestep = np.where(time_index == '2020-01-01 00:30:00')[0][0]\n",
    "timestep\n",
    "dset = f['ghi']\n",
    "%time data = dset[timestep, ::10]   # extract every 10th location at a particular time\n",
    "df = pd.DataFrame() # Combine data with coordinates in a DataFrame\n",
    "df['longitude'] = coords[::10, 1]\n",
    "df['latitude'] = coords[::10, 0]\n",
    "df['ghi'] = data / dset.attrs['psm_scale_factor'] # unscale dataset"
   ]
  },
  {
   "cell_type": "code",
   "execution_count": 80,
   "id": "877a79d1",
   "metadata": {},
   "outputs": [
    {
     "data": {
      "image/png": "[encoded data removed]",
      "text/plain": [
       "<Figure size 432x288 with 2 Axes>"
      ]
     },
     "metadata": {
      "needs_background": "light"
     },
     "output_type": "display_data"
    }
   ],
   "source": [
    "df.plot.scatter(x='longitude', y='latitude', c='ghi',\n",
    "                colormap='YlOrRd',\n",
    "                title=str(time_index[timestep]))\n",
    "plt.show()"
   ]
  },
  {
   "cell_type": "code",
   "execution_count": 62,
   "id": "19e476eb",
   "metadata": {},
   "outputs": [
    {
     "name": "stdout",
     "output_type": "stream",
     "text": [
      "(546219, 10)\n"
     ]
    },
    {
     "data": {
      "text/html": [
       "<div>\n",
       "<style scoped>\n",
       "    .dataframe tbody tr th:only-of-type {\n",
       "        vertical-align: middle;\n",
       "    }\n",
       "\n",
       "    .dataframe tbody tr th {\n",
       "        vertical-align: top;\n",
       "    }\n",
       "\n",
       "    .dataframe thead th {\n",
       "        text-align: right;\n",
       "    }\n",
       "</style>\n",
       "<table border=\"1\" class=\"dataframe\">\n",
       "  <thead>\n",
       "    <tr style=\"text-align: right;\">\n",
       "      <th></th>\n",
       "      <th>latitude</th>\n",
       "      <th>longitude</th>\n",
       "      <th>elevation</th>\n",
       "      <th>timezone</th>\n",
       "      <th>country</th>\n",
       "      <th>state</th>\n",
       "      <th>county</th>\n",
       "      <th>urban</th>\n",
       "      <th>population</th>\n",
       "      <th>landcover</th>\n",
       "    </tr>\n",
       "  </thead>\n",
       "  <tbody>\n",
       "    <tr>\n",
       "      <th>14294</th>\n",
       "      <td>18.930000</td>\n",
       "      <td>-155.660004</td>\n",
       "      <td>66.263161</td>\n",
       "      <td>-10</td>\n",
       "      <td>b'United States'</td>\n",
       "      <td>b'Hawaii'</td>\n",
       "      <td>b'Hawaii'</td>\n",
       "      <td>b'None'</td>\n",
       "      <td>6</td>\n",
       "      <td>140</td>\n",
       "    </tr>\n",
       "    <tr>\n",
       "      <th>14327</th>\n",
       "      <td>18.969999</td>\n",
       "      <td>-155.740005</td>\n",
       "      <td>46.846153</td>\n",
       "      <td>-10</td>\n",
       "      <td>b'United States'</td>\n",
       "      <td>b'Hawaii'</td>\n",
       "      <td>b'Hawaii'</td>\n",
       "      <td>b'None'</td>\n",
       "      <td>0</td>\n",
       "      <td>210</td>\n",
       "    </tr>\n",
       "    <tr>\n",
       "      <th>14328</th>\n",
       "      <td>18.969999</td>\n",
       "      <td>-155.699997</td>\n",
       "      <td>64.631577</td>\n",
       "      <td>-10</td>\n",
       "      <td>b'United States'</td>\n",
       "      <td>b'Hawaii'</td>\n",
       "      <td>b'Hawaii'</td>\n",
       "      <td>b'None'</td>\n",
       "      <td>0</td>\n",
       "      <td>200</td>\n",
       "    </tr>\n",
       "    <tr>\n",
       "      <th>14329</th>\n",
       "      <td>18.969999</td>\n",
       "      <td>-155.660004</td>\n",
       "      <td>211.360001</td>\n",
       "      <td>-10</td>\n",
       "      <td>b'United States'</td>\n",
       "      <td>b'Hawaii'</td>\n",
       "      <td>b'Hawaii'</td>\n",
       "      <td>b'None'</td>\n",
       "      <td>2</td>\n",
       "      <td>30</td>\n",
       "    </tr>\n",
       "    <tr>\n",
       "      <th>14330</th>\n",
       "      <td>18.969999</td>\n",
       "      <td>-155.619995</td>\n",
       "      <td>93.428574</td>\n",
       "      <td>-10</td>\n",
       "      <td>b'United States'</td>\n",
       "      <td>b'Hawaii'</td>\n",
       "      <td>b'Hawaii'</td>\n",
       "      <td>b'None'</td>\n",
       "      <td>2</td>\n",
       "      <td>30</td>\n",
       "    </tr>\n",
       "  </tbody>\n",
       "</table>\n",
       "</div>"
      ],
      "text/plain": [
       "        latitude   longitude   elevation  timezone           country  \\\n",
       "14294  18.930000 -155.660004   66.263161       -10  b'United States'   \n",
       "14327  18.969999 -155.740005   46.846153       -10  b'United States'   \n",
       "14328  18.969999 -155.699997   64.631577       -10  b'United States'   \n",
       "14329  18.969999 -155.660004  211.360001       -10  b'United States'   \n",
       "14330  18.969999 -155.619995   93.428574       -10  b'United States'   \n",
       "\n",
       "           state     county    urban  population  landcover  \n",
       "14294  b'Hawaii'  b'Hawaii'  b'None'           6        140  \n",
       "14327  b'Hawaii'  b'Hawaii'  b'None'           0        210  \n",
       "14328  b'Hawaii'  b'Hawaii'  b'None'           0        200  \n",
       "14329  b'Hawaii'  b'Hawaii'  b'None'           2         30  \n",
       "14330  b'Hawaii'  b'Hawaii'  b'None'           2         30  "
      ]
     },
     "execution_count": 62,
     "metadata": {},
     "output_type": "execute_result"
    }
   ],
   "source": [
    "meta = pd.DataFrame(f['meta'][...])\n",
    "USA = meta.loc[meta['country'] == b'United States']\n",
    "print(USA.shape)\n",
    "USA.head()\n"
   ]
  },
  {
   "cell_type": "code",
   "execution_count": 55,
   "id": "8acef3f6",
   "metadata": {},
   "outputs": [
    {
     "data": {
      "text/html": [
       "<div>\n",
       "<style scoped>\n",
       "    .dataframe tbody tr th:only-of-type {\n",
       "        vertical-align: middle;\n",
       "    }\n",
       "\n",
       "    .dataframe tbody tr th {\n",
       "        vertical-align: top;\n",
       "    }\n",
       "\n",
       "    .dataframe thead th {\n",
       "        text-align: right;\n",
       "    }\n",
       "</style>\n",
       "<table border=\"1\" class=\"dataframe\">\n",
       "  <thead>\n",
       "    <tr style=\"text-align: right;\">\n",
       "      <th></th>\n",
       "      <th>latitude</th>\n",
       "      <th>longitude</th>\n",
       "      <th>elevation</th>\n",
       "      <th>timezone</th>\n",
       "      <th>country</th>\n",
       "      <th>state</th>\n",
       "      <th>county</th>\n",
       "      <th>urban</th>\n",
       "      <th>population</th>\n",
       "      <th>landcover</th>\n",
       "    </tr>\n",
       "  </thead>\n",
       "  <tbody>\n",
       "    <tr>\n",
       "      <th>70276</th>\n",
       "      <td>32.529999</td>\n",
       "      <td>-117.099998</td>\n",
       "      <td>55.062500</td>\n",
       "      <td>-8</td>\n",
       "      <td>b'United States'</td>\n",
       "      <td>b'California'</td>\n",
       "      <td>b'San Diego'</td>\n",
       "      <td>b'None'</td>\n",
       "      <td>32326</td>\n",
       "      <td>130</td>\n",
       "    </tr>\n",
       "    <tr>\n",
       "      <th>70588</th>\n",
       "      <td>32.570000</td>\n",
       "      <td>-117.099998</td>\n",
       "      <td>7.100000</td>\n",
       "      <td>-8</td>\n",
       "      <td>b'United States'</td>\n",
       "      <td>b'California'</td>\n",
       "      <td>b'San Diego'</td>\n",
       "      <td>b'Tijuana'</td>\n",
       "      <td>27971</td>\n",
       "      <td>190</td>\n",
       "    </tr>\n",
       "    <tr>\n",
       "      <th>70589</th>\n",
       "      <td>32.570000</td>\n",
       "      <td>-117.059998</td>\n",
       "      <td>24.920000</td>\n",
       "      <td>-8</td>\n",
       "      <td>b'United States'</td>\n",
       "      <td>b'California'</td>\n",
       "      <td>b'San Diego'</td>\n",
       "      <td>b'Tijuana'</td>\n",
       "      <td>51608</td>\n",
       "      <td>190</td>\n",
       "    </tr>\n",
       "    <tr>\n",
       "      <th>70590</th>\n",
       "      <td>32.570000</td>\n",
       "      <td>-117.019997</td>\n",
       "      <td>96.599998</td>\n",
       "      <td>-8</td>\n",
       "      <td>b'United States'</td>\n",
       "      <td>b'California'</td>\n",
       "      <td>b'San Diego'</td>\n",
       "      <td>b'Tijuana'</td>\n",
       "      <td>15236</td>\n",
       "      <td>110</td>\n",
       "    </tr>\n",
       "    <tr>\n",
       "      <th>70591</th>\n",
       "      <td>32.570000</td>\n",
       "      <td>-116.980003</td>\n",
       "      <td>140.600006</td>\n",
       "      <td>-8</td>\n",
       "      <td>b'United States'</td>\n",
       "      <td>b'California'</td>\n",
       "      <td>b'San Diego'</td>\n",
       "      <td>b'Tijuana'</td>\n",
       "      <td>2949</td>\n",
       "      <td>130</td>\n",
       "    </tr>\n",
       "  </tbody>\n",
       "</table>\n",
       "</div>"
      ],
      "text/plain": [
       "        latitude   longitude   elevation  timezone           country  \\\n",
       "70276  32.529999 -117.099998   55.062500        -8  b'United States'   \n",
       "70588  32.570000 -117.099998    7.100000        -8  b'United States'   \n",
       "70589  32.570000 -117.059998   24.920000        -8  b'United States'   \n",
       "70590  32.570000 -117.019997   96.599998        -8  b'United States'   \n",
       "70591  32.570000 -116.980003  140.600006        -8  b'United States'   \n",
       "\n",
       "               state        county       urban  population  landcover  \n",
       "70276  b'California'  b'San Diego'     b'None'       32326        130  \n",
       "70588  b'California'  b'San Diego'  b'Tijuana'       27971        190  \n",
       "70589  b'California'  b'San Diego'  b'Tijuana'       51608        190  \n",
       "70590  b'California'  b'San Diego'  b'Tijuana'       15236        110  \n",
       "70591  b'California'  b'San Diego'  b'Tijuana'        2949        130  "
      ]
     },
     "execution_count": 55,
     "metadata": {},
     "output_type": "execute_result"
    }
   ],
   "source": [
    "# Full resolution subset of Colorado\n",
    "meta = pd.DataFrame(f['meta'][...])\n",
    "CA = meta.loc[meta['state'] == b'California'] # Note .h5 saves strings as bit-strings\n",
    "CA.head()"
   ]
  },
  {
   "cell_type": "code",
   "execution_count": 67,
   "id": "05bcf3e8",
   "metadata": {},
   "outputs": [
    {
     "name": "stdout",
     "output_type": "stream",
     "text": [
      "CPU times: user 20.3 ms, sys: 541 µs, total: 20.8 ms\n",
      "Wall time: 19.2 ms\n"
     ]
    },
    {
     "data": {
      "text/plain": [
       "(26010, 3)"
      ]
     },
     "execution_count": 67,
     "metadata": {},
     "output_type": "execute_result"
    }
   ],
   "source": [
    "%time data = dset[timestep][CA.index]  # full-resolution subset\n",
    "df = CA[['longitude', 'latitude']].copy()\n",
    "df['ghi'] = data / dset.attrs['psm_scale_factor']\n",
    "df.shape"
   ]
  },
  {
   "cell_type": "code",
   "execution_count": 68,
   "id": "ba0e64cd",
   "metadata": {},
   "outputs": [
    {
     "data": {
      "image/png": "[encoded data removed]",
      "text/plain": [
       "<Figure size 432x288 with 2 Axes>"
      ]
     },
     "metadata": {
      "needs_background": "light"
     },
     "output_type": "display_data"
    }
   ],
   "source": [
    "df.plot.scatter(x='longitude', y='latitude', c='ghi',\n",
    "                colormap='YlOrRd',\n",
    "                title=str(time_index[timestep]))\n",
    "plt.show()"
   ]
  },
  {
   "cell_type": "code",
   "execution_count": null,
   "id": "eb7df4c0",
   "metadata": {},
   "outputs": [],
   "source": []
  }
 ],
 "metadata": {
  "kernelspec": {
   "display_name": "Python 3 (ipykernel)",
   "language": "python",
   "name": "python3"
  },
  "language_info": {
   "codemirror_mode": {
    "name": "ipython",
    "version": 3
   },
   "file_extension": ".py",
   "mimetype": "text/x-python",
   "name": "python",
   "nbconvert_exporter": "python",
   "pygments_lexer": "ipython3",
   "version": "3.8.10"
  }
 },
 "nbformat": 4,
 "nbformat_minor": 5
}
